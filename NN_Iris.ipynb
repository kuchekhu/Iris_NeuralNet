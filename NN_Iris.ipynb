{
 "cells": [
  {
   "cell_type": "markdown",
   "metadata": {},
   "source": [
    "# Neural Net Regression to predict different species of Iris flowers"
   ]
  },
  {
   "cell_type": "code",
   "execution_count": 1,
   "metadata": {},
   "outputs": [],
   "source": [
    "import tensorflow as tf\n",
    "import pandas as pd\n",
    "import numpy as np\n",
    "import matplotlib.pyplot as plt\n",
    "import seaborn as sns\n",
    "from tensorflow import keras\n",
    "from tensorflow.keras import layers\n",
    "import pathlib\n",
    "from tensorflow.keras import regularizers\n",
    "%matplotlib inline"
   ]
  },
  {
   "cell_type": "code",
   "execution_count": 2,
   "metadata": {},
   "outputs": [
    {
     "data": {
      "text/html": [
       "<div>\n",
       "<style scoped>\n",
       "    .dataframe tbody tr th:only-of-type {\n",
       "        vertical-align: middle;\n",
       "    }\n",
       "\n",
       "    .dataframe tbody tr th {\n",
       "        vertical-align: top;\n",
       "    }\n",
       "\n",
       "    .dataframe thead th {\n",
       "        text-align: right;\n",
       "    }\n",
       "</style>\n",
       "<table border=\"1\" class=\"dataframe\">\n",
       "  <thead>\n",
       "    <tr style=\"text-align: right;\">\n",
       "      <th></th>\n",
       "      <th>sepal_length</th>\n",
       "      <th>sepal_width</th>\n",
       "      <th>petal_length</th>\n",
       "      <th>petal_width</th>\n",
       "      <th>species</th>\n",
       "    </tr>\n",
       "  </thead>\n",
       "  <tbody>\n",
       "    <tr>\n",
       "      <th>0</th>\n",
       "      <td>5.1</td>\n",
       "      <td>3.5</td>\n",
       "      <td>1.4</td>\n",
       "      <td>0.2</td>\n",
       "      <td>Iris-setosa</td>\n",
       "    </tr>\n",
       "    <tr>\n",
       "      <th>1</th>\n",
       "      <td>4.9</td>\n",
       "      <td>3.0</td>\n",
       "      <td>1.4</td>\n",
       "      <td>0.2</td>\n",
       "      <td>Iris-setosa</td>\n",
       "    </tr>\n",
       "    <tr>\n",
       "      <th>2</th>\n",
       "      <td>4.7</td>\n",
       "      <td>3.2</td>\n",
       "      <td>1.3</td>\n",
       "      <td>0.2</td>\n",
       "      <td>Iris-setosa</td>\n",
       "    </tr>\n",
       "    <tr>\n",
       "      <th>3</th>\n",
       "      <td>4.6</td>\n",
       "      <td>3.1</td>\n",
       "      <td>1.5</td>\n",
       "      <td>0.2</td>\n",
       "      <td>Iris-setosa</td>\n",
       "    </tr>\n",
       "    <tr>\n",
       "      <th>4</th>\n",
       "      <td>5.0</td>\n",
       "      <td>3.6</td>\n",
       "      <td>1.4</td>\n",
       "      <td>0.2</td>\n",
       "      <td>Iris-setosa</td>\n",
       "    </tr>\n",
       "  </tbody>\n",
       "</table>\n",
       "</div>"
      ],
      "text/plain": [
       "   sepal_length  sepal_width  petal_length  petal_width      species\n",
       "0           5.1          3.5           1.4          0.2  Iris-setosa\n",
       "1           4.9          3.0           1.4          0.2  Iris-setosa\n",
       "2           4.7          3.2           1.3          0.2  Iris-setosa\n",
       "3           4.6          3.1           1.5          0.2  Iris-setosa\n",
       "4           5.0          3.6           1.4          0.2  Iris-setosa"
      ]
     },
     "execution_count": 2,
     "metadata": {},
     "output_type": "execute_result"
    }
   ],
   "source": [
    "df = pd.read_csv(\"IRIS.csv\")\n",
    "df.head(5)"
   ]
  },
  {
   "cell_type": "markdown",
   "metadata": {},
   "source": [
    "# Desciption of Data\n",
    "\n",
    "## SepalLength - Length of the sepal (in cm)\n",
    "## SepalWidth - Width of the sepal (in cm)\n",
    "## PetalLength - Length of the petal (in cm)\n",
    "## PetalWidth - Width of the petal (in cm)\n",
    "## Species - Species name"
   ]
  },
  {
   "cell_type": "code",
   "execution_count": 3,
   "metadata": {},
   "outputs": [
    {
     "data": {
      "text/plain": [
       "array([1, 2, 3], dtype=int64)"
      ]
     },
     "execution_count": 3,
     "metadata": {},
     "output_type": "execute_result"
    }
   ],
   "source": [
    "# reasigning qualitative values with quantitative values to be passed through the model\n",
    "df = df.replace('Iris-setosa',1)\n",
    "df = df.replace('Iris-versicolor',2)\n",
    "df = df.replace('Iris-virginica',3)\n",
    "\n",
    "\n",
    "df['species'].unique() # displays all unique values in a column"
   ]
  },
  {
   "cell_type": "code",
   "execution_count": 4,
   "metadata": {},
   "outputs": [
    {
     "data": {
      "text/html": [
       "<div>\n",
       "<style scoped>\n",
       "    .dataframe tbody tr th:only-of-type {\n",
       "        vertical-align: middle;\n",
       "    }\n",
       "\n",
       "    .dataframe tbody tr th {\n",
       "        vertical-align: top;\n",
       "    }\n",
       "\n",
       "    .dataframe thead th {\n",
       "        text-align: right;\n",
       "    }\n",
       "</style>\n",
       "<table border=\"1\" class=\"dataframe\">\n",
       "  <thead>\n",
       "    <tr style=\"text-align: right;\">\n",
       "      <th></th>\n",
       "      <th>sepal_length</th>\n",
       "      <th>sepal_width</th>\n",
       "      <th>petal_length</th>\n",
       "      <th>petal_width</th>\n",
       "      <th>species</th>\n",
       "    </tr>\n",
       "  </thead>\n",
       "  <tbody>\n",
       "    <tr>\n",
       "      <th>114</th>\n",
       "      <td>5.8</td>\n",
       "      <td>2.8</td>\n",
       "      <td>5.1</td>\n",
       "      <td>2.4</td>\n",
       "      <td>3</td>\n",
       "    </tr>\n",
       "    <tr>\n",
       "      <th>62</th>\n",
       "      <td>6.0</td>\n",
       "      <td>2.2</td>\n",
       "      <td>4.0</td>\n",
       "      <td>1.0</td>\n",
       "      <td>2</td>\n",
       "    </tr>\n",
       "    <tr>\n",
       "      <th>33</th>\n",
       "      <td>5.5</td>\n",
       "      <td>4.2</td>\n",
       "      <td>1.4</td>\n",
       "      <td>0.2</td>\n",
       "      <td>1</td>\n",
       "    </tr>\n",
       "  </tbody>\n",
       "</table>\n",
       "</div>"
      ],
      "text/plain": [
       "     sepal_length  sepal_width  petal_length  petal_width  species\n",
       "114           5.8          2.8           5.1          2.4        3\n",
       "62            6.0          2.2           4.0          1.0        2\n",
       "33            5.5          4.2           1.4          0.2        1"
      ]
     },
     "execution_count": 4,
     "metadata": {},
     "output_type": "execute_result"
    }
   ],
   "source": [
    "train_df = df.sample(frac=0.7,random_state=0)\n",
    "test_df = df.drop(train_df.index)\n",
    "train_df.head(3)"
   ]
  },
  {
   "cell_type": "code",
   "execution_count": 5,
   "metadata": {},
   "outputs": [
    {
     "data": {
      "text/plain": [
       "<seaborn.axisgrid.PairGrid at 0x1967ee58978>"
      ]
     },
     "execution_count": 5,
     "metadata": {},
     "output_type": "execute_result"
    },
    {
     "data": {
      "image/png": "[encoded data removed]",
      "text/plain": [
       "<Figure size 540x180 with 3 Axes>"
      ]
     },
     "metadata": {
      "needs_background": "light"
     },
     "output_type": "display_data"
    }
   ],
   "source": [
    "\n",
    "sns.pairplot(train_df, y_vars=[ \"species\"], x_vars=[\"sepal_length\",\"sepal_width\", \"petal_width\"], diag_kind=\"kde\")\n"
   ]
  },
  {
   "cell_type": "code",
   "execution_count": 6,
   "metadata": {},
   "outputs": [
    {
     "data": {
      "text/html": [
       "<div>\n",
       "<style scoped>\n",
       "    .dataframe tbody tr th:only-of-type {\n",
       "        vertical-align: middle;\n",
       "    }\n",
       "\n",
       "    .dataframe tbody tr th {\n",
       "        vertical-align: top;\n",
       "    }\n",
       "\n",
       "    .dataframe thead th {\n",
       "        text-align: right;\n",
       "    }\n",
       "</style>\n",
       "<table border=\"1\" class=\"dataframe\">\n",
       "  <thead>\n",
       "    <tr style=\"text-align: right;\">\n",
       "      <th></th>\n",
       "      <th>count</th>\n",
       "      <th>mean</th>\n",
       "      <th>std</th>\n",
       "      <th>min</th>\n",
       "      <th>25%</th>\n",
       "      <th>50%</th>\n",
       "      <th>75%</th>\n",
       "      <th>max</th>\n",
       "    </tr>\n",
       "  </thead>\n",
       "  <tbody>\n",
       "    <tr>\n",
       "      <th>sepal_length</th>\n",
       "      <td>105.0</td>\n",
       "      <td>5.819048</td>\n",
       "      <td>0.807072</td>\n",
       "      <td>4.3</td>\n",
       "      <td>5.1</td>\n",
       "      <td>5.8</td>\n",
       "      <td>6.4</td>\n",
       "      <td>7.7</td>\n",
       "    </tr>\n",
       "    <tr>\n",
       "      <th>sepal_width</th>\n",
       "      <td>105.0</td>\n",
       "      <td>3.033333</td>\n",
       "      <td>0.437578</td>\n",
       "      <td>2.0</td>\n",
       "      <td>2.8</td>\n",
       "      <td>3.0</td>\n",
       "      <td>3.3</td>\n",
       "      <td>4.4</td>\n",
       "    </tr>\n",
       "    <tr>\n",
       "      <th>petal_length</th>\n",
       "      <td>105.0</td>\n",
       "      <td>3.820000</td>\n",
       "      <td>1.721772</td>\n",
       "      <td>1.0</td>\n",
       "      <td>1.6</td>\n",
       "      <td>4.5</td>\n",
       "      <td>5.1</td>\n",
       "      <td>6.6</td>\n",
       "    </tr>\n",
       "    <tr>\n",
       "      <th>petal_width</th>\n",
       "      <td>105.0</td>\n",
       "      <td>1.236190</td>\n",
       "      <td>0.752831</td>\n",
       "      <td>0.1</td>\n",
       "      <td>0.3</td>\n",
       "      <td>1.4</td>\n",
       "      <td>1.8</td>\n",
       "      <td>2.5</td>\n",
       "    </tr>\n",
       "  </tbody>\n",
       "</table>\n",
       "</div>"
      ],
      "text/plain": [
       "              count      mean       std  min  25%  50%  75%  max\n",
       "sepal_length  105.0  5.819048  0.807072  4.3  5.1  5.8  6.4  7.7\n",
       "sepal_width   105.0  3.033333  0.437578  2.0  2.8  3.0  3.3  4.4\n",
       "petal_length  105.0  3.820000  1.721772  1.0  1.6  4.5  5.1  6.6\n",
       "petal_width   105.0  1.236190  0.752831  0.1  0.3  1.4  1.8  2.5"
      ]
     },
     "execution_count": 6,
     "metadata": {},
     "output_type": "execute_result"
    }
   ],
   "source": [
    "train_stats = train_df.describe()\n",
    "train_stats.pop(\"species\")\n",
    "train_stats = train_stats.transpose()\n",
    "train_stats"
   ]
  },
  {
   "cell_type": "code",
   "execution_count": 7,
   "metadata": {},
   "outputs": [],
   "source": [
    "#tf = train_stats.describe()\n",
    "#tf = train_df.transpose()\n",
    "#tf\n",
    "train_labels = train_df.pop(\"species\")\n",
    "test_labels = test_df.pop(\"species\")"
   ]
  },
  {
   "cell_type": "code",
   "execution_count": 8,
   "metadata": {},
   "outputs": [],
   "source": [
    "# normalizing the data before training the model\n",
    "\n",
    "def normalize(x):\n",
    "    return(x - train_stats[\"mean\"]) / train_stats[\"std\"]\n",
    "norm_train = normalize(train_df)\n",
    "norm_test = normalize(test_df)"
   ]
  },
  {
   "cell_type": "code",
   "execution_count": 9,
   "metadata": {},
   "outputs": [
    {
     "name": "stdout",
     "output_type": "stream",
     "text": [
      "Model: \"sequential\"\n",
      "_________________________________________________________________\n",
      "Layer (type)                 Output Shape              Param #   \n",
      "=================================================================\n",
      "dense (Dense)                (None, 64)                320       \n",
      "_________________________________________________________________\n",
      "dense_1 (Dense)              (None, 64)                4160      \n",
      "_________________________________________________________________\n",
      "dense_2 (Dense)              (None, 1)                 65        \n",
      "=================================================================\n",
      "Total params: 4,545\n",
      "Trainable params: 4,545\n",
      "Non-trainable params: 0\n",
      "_________________________________________________________________\n"
     ]
    }
   ],
   "source": [
    "# constructing the layers of my neural network\n",
    "\n",
    "def build_model():\n",
    "    model = keras.Sequential([\n",
    "        layers.Dense(64, activation = 'relu', activity_regularizer = regularizers.l2(.01),input_shape=[len(train_df.keys())]),\n",
    "        layers.Dense(64, activation = 'relu', kernel_regularizer = regularizers.l2(.01)),\n",
    "        layers.Dense(1)\n",
    "    ])\n",
    "    \n",
    "    optimizer = tf.keras.optimizers.RMSprop(.001)\n",
    "    \n",
    "    model.compile(loss='mse',\n",
    "                 optimizer=optimizer, \n",
    "                 metrics = ['mae', 'mse'])\n",
    "\n",
    "\n",
    "    return model\n",
    "\n",
    "model = build_model()\n",
    "\n",
    "model.summary()\n",
    "    "
   ]
  },
  {
   "cell_type": "code",
   "execution_count": 10,
   "metadata": {},
   "outputs": [],
   "source": [
    "#example_batch = norm_train[:10]\n",
    "#example_result = model.predict(example_batch)\n",
    "#example_result"
   ]
  },
  {
   "cell_type": "code",
   "execution_count": 11,
   "metadata": {},
   "outputs": [
    {
     "name": "stdout",
     "output_type": "stream",
     "text": [
      "WARNING:tensorflow:Falling back from v2 loop because of error: Failed to find data adapter that can handle input: <class 'pandas.core.frame.DataFrame'>, <class 'NoneType'>\n",
      "\n",
      "....................................................................................................\n",
      "....................................................................................................\n",
      "....................................................................................................\n",
      "....................................................................................................\n",
      "....................................................................................................\n",
      "....................................................................................................\n",
      "....................................................................................................\n",
      "....................................................................................................\n",
      "....................................................................................................\n",
      "...................................................................................................."
     ]
    }
   ],
   "source": [
    "'''this class is not crucial to the performance of the model.  \n",
    "    it simply prints a dot for each training step taken so you can see\n",
    "    the models progress'''\n",
    "\n",
    "class PrintDot(keras.callbacks.Callback):   \n",
    "    def on_epoch_end(self, epoch, logs):                                  \n",
    "        if epoch % 100 == 0: print('')\n",
    "        print('.', end='')\n",
    "\n",
    "EPOCHS = 1000\n",
    "\n",
    "history = model.fit(norm_train, train_labels, epochs = EPOCHS,\n",
    "                   validation_split = .02, verbose = 0, callbacks = [PrintDot()])"
   ]
  },
  {
   "cell_type": "code",
   "execution_count": 12,
   "metadata": {},
   "outputs": [
    {
     "data": {
      "text/html": [
       "<div>\n",
       "<style scoped>\n",
       "    .dataframe tbody tr th:only-of-type {\n",
       "        vertical-align: middle;\n",
       "    }\n",
       "\n",
       "    .dataframe tbody tr th {\n",
       "        vertical-align: top;\n",
       "    }\n",
       "\n",
       "    .dataframe thead th {\n",
       "        text-align: right;\n",
       "    }\n",
       "</style>\n",
       "<table border=\"1\" class=\"dataframe\">\n",
       "  <thead>\n",
       "    <tr style=\"text-align: right;\">\n",
       "      <th></th>\n",
       "      <th>loss</th>\n",
       "      <th>mae</th>\n",
       "      <th>mse</th>\n",
       "      <th>val_loss</th>\n",
       "      <th>val_mae</th>\n",
       "      <th>val_mse</th>\n",
       "      <th>epoch</th>\n",
       "    </tr>\n",
       "  </thead>\n",
       "  <tbody>\n",
       "    <tr>\n",
       "      <th>995</th>\n",
       "      <td>0.018797</td>\n",
       "      <td>0.052243</td>\n",
       "      <td>0.008669</td>\n",
       "      <td>0.033066</td>\n",
       "      <td>0.135879</td>\n",
       "      <td>0.019011</td>\n",
       "      <td>995</td>\n",
       "    </tr>\n",
       "    <tr>\n",
       "      <th>996</th>\n",
       "      <td>0.023292</td>\n",
       "      <td>0.077795</td>\n",
       "      <td>0.013138</td>\n",
       "      <td>0.022494</td>\n",
       "      <td>0.070152</td>\n",
       "      <td>0.008323</td>\n",
       "      <td>996</td>\n",
       "    </tr>\n",
       "    <tr>\n",
       "      <th>997</th>\n",
       "      <td>0.021332</td>\n",
       "      <td>0.067541</td>\n",
       "      <td>0.011267</td>\n",
       "      <td>0.026008</td>\n",
       "      <td>0.091215</td>\n",
       "      <td>0.011508</td>\n",
       "      <td>997</td>\n",
       "    </tr>\n",
       "    <tr>\n",
       "      <th>998</th>\n",
       "      <td>0.018838</td>\n",
       "      <td>0.052638</td>\n",
       "      <td>0.008663</td>\n",
       "      <td>0.046853</td>\n",
       "      <td>0.173767</td>\n",
       "      <td>0.031565</td>\n",
       "      <td>998</td>\n",
       "    </tr>\n",
       "    <tr>\n",
       "      <th>999</th>\n",
       "      <td>0.025659</td>\n",
       "      <td>0.085882</td>\n",
       "      <td>0.015079</td>\n",
       "      <td>0.039610</td>\n",
       "      <td>0.145858</td>\n",
       "      <td>0.024444</td>\n",
       "      <td>999</td>\n",
       "    </tr>\n",
       "  </tbody>\n",
       "</table>\n",
       "</div>"
      ],
      "text/plain": [
       "         loss       mae       mse  val_loss   val_mae   val_mse  epoch\n",
       "995  0.018797  0.052243  0.008669  0.033066  0.135879  0.019011    995\n",
       "996  0.023292  0.077795  0.013138  0.022494  0.070152  0.008323    996\n",
       "997  0.021332  0.067541  0.011267  0.026008  0.091215  0.011508    997\n",
       "998  0.018838  0.052638  0.008663  0.046853  0.173767  0.031565    998\n",
       "999  0.025659  0.085882  0.015079  0.039610  0.145858  0.024444    999"
      ]
     },
     "execution_count": 12,
     "metadata": {},
     "output_type": "execute_result"
    }
   ],
   "source": [
    "hist = pd.DataFrame(history.history)\n",
    "hist['epoch'] = history.epoch\n",
    "hist.tail()"
   ]
  },
  {
   "cell_type": "code",
   "execution_count": 13,
   "metadata": {},
   "outputs": [
    {
     "data": {
      "image/png": "[encoded data removed]",
      "text/plain": [
       "<Figure size 720x720 with 2 Axes>"
      ]
     },
     "metadata": {
      "needs_background": "light"
     },
     "output_type": "display_data"
    }
   ],
   "source": [
    "fig, ax = plt.subplots(2,1, figsize = (10,10))\n",
    "\n",
    "ax[0].plot(hist['epoch'], hist['mae'], label = 'Train Error', color = 'g')\n",
    "ax[0].plot(hist['epoch'], hist['val_mae'], label = 'Val Error', color = 'r')\n",
    "ax[0].set_xlabel('EPOCH')\n",
    "ax[0].set_ylabel('Mean Absolute Error')\n",
    "ax[0].legend()\n",
    "ax[0].grid()\n",
    "\n",
    "\n",
    "ax[1].plot(hist['epoch'], hist['mse'], label = 'Train Error', color = 'purple')\n",
    "ax[1].plot(hist['epoch'], hist['val_mse'], label = 'Val Error', color = 'y')\n",
    "ax[1].set_xlabel('EPOCH')\n",
    "ax[1].set_ylabel('Mean Squared Error')\n",
    "ax[1].legend()\n",
    "ax[1].grid()"
   ]
  },
  {
   "cell_type": "code",
   "execution_count": 14,
   "metadata": {},
   "outputs": [
    {
     "name": "stdout",
     "output_type": "stream",
     "text": [
      "WARNING:tensorflow:Falling back from v2 loop because of error: Failed to find data adapter that can handle input: <class 'pandas.core.frame.DataFrame'>, <class 'NoneType'>\n",
      "\n",
      "....................................................................................................\n",
      "......................................................................................"
     ]
    }
   ],
   "source": [
    "model = build_model()\n",
    "\n",
    "'''early stop adds a callback to tell the model to stop training when the validation score doesnt improve\n",
    "the idea behind this is that it will increase test accuracy'''\n",
    "\n",
    "early_stop = keras.callbacks.EarlyStopping(monitor='val_loss', patience=10) \n",
    "\n",
    "history1 = model.fit(norm_train, train_labels, epochs=EPOCHS,\n",
    "                    validation_split = 0.2, verbose=0, callbacks=[early_stop, PrintDot()])\n",
    "hist1 = pd.DataFrame(history1.history)\n",
    "hist1['epoch'] = history1.epoch"
   ]
  },
  {
   "cell_type": "code",
   "execution_count": 15,
   "metadata": {},
   "outputs": [
    {
     "data": {
      "text/html": [
       "<div>\n",
       "<style scoped>\n",
       "    .dataframe tbody tr th:only-of-type {\n",
       "        vertical-align: middle;\n",
       "    }\n",
       "\n",
       "    .dataframe tbody tr th {\n",
       "        vertical-align: top;\n",
       "    }\n",
       "\n",
       "    .dataframe thead th {\n",
       "        text-align: right;\n",
       "    }\n",
       "</style>\n",
       "<table border=\"1\" class=\"dataframe\">\n",
       "  <thead>\n",
       "    <tr style=\"text-align: right;\">\n",
       "      <th></th>\n",
       "      <th>loss</th>\n",
       "      <th>mae</th>\n",
       "      <th>mse</th>\n",
       "      <th>val_loss</th>\n",
       "      <th>val_mae</th>\n",
       "      <th>val_mse</th>\n",
       "      <th>epoch</th>\n",
       "    </tr>\n",
       "  </thead>\n",
       "  <tbody>\n",
       "    <tr>\n",
       "      <th>181</th>\n",
       "      <td>0.060296</td>\n",
       "      <td>0.117292</td>\n",
       "      <td>0.027275</td>\n",
       "      <td>0.076496</td>\n",
       "      <td>0.125840</td>\n",
       "      <td>0.040724</td>\n",
       "      <td>181</td>\n",
       "    </tr>\n",
       "    <tr>\n",
       "      <th>182</th>\n",
       "      <td>0.066647</td>\n",
       "      <td>0.129861</td>\n",
       "      <td>0.034360</td>\n",
       "      <td>0.071598</td>\n",
       "      <td>0.140039</td>\n",
       "      <td>0.035356</td>\n",
       "      <td>182</td>\n",
       "    </tr>\n",
       "    <tr>\n",
       "      <th>183</th>\n",
       "      <td>0.065285</td>\n",
       "      <td>0.130402</td>\n",
       "      <td>0.032901</td>\n",
       "      <td>0.075922</td>\n",
       "      <td>0.129315</td>\n",
       "      <td>0.040601</td>\n",
       "      <td>183</td>\n",
       "    </tr>\n",
       "    <tr>\n",
       "      <th>184</th>\n",
       "      <td>0.060810</td>\n",
       "      <td>0.118760</td>\n",
       "      <td>0.028932</td>\n",
       "      <td>0.072011</td>\n",
       "      <td>0.136628</td>\n",
       "      <td>0.036225</td>\n",
       "      <td>184</td>\n",
       "    </tr>\n",
       "    <tr>\n",
       "      <th>185</th>\n",
       "      <td>0.061071</td>\n",
       "      <td>0.118926</td>\n",
       "      <td>0.029092</td>\n",
       "      <td>0.072230</td>\n",
       "      <td>0.130663</td>\n",
       "      <td>0.036921</td>\n",
       "      <td>185</td>\n",
       "    </tr>\n",
       "  </tbody>\n",
       "</table>\n",
       "</div>"
      ],
      "text/plain": [
       "         loss       mae       mse  val_loss   val_mae   val_mse  epoch\n",
       "181  0.060296  0.117292  0.027275  0.076496  0.125840  0.040724    181\n",
       "182  0.066647  0.129861  0.034360  0.071598  0.140039  0.035356    182\n",
       "183  0.065285  0.130402  0.032901  0.075922  0.129315  0.040601    183\n",
       "184  0.060810  0.118760  0.028932  0.072011  0.136628  0.036225    184\n",
       "185  0.061071  0.118926  0.029092  0.072230  0.130663  0.036921    185"
      ]
     },
     "execution_count": 15,
     "metadata": {},
     "output_type": "execute_result"
    }
   ],
   "source": [
    "hist1.tail(5)"
   ]
  },
  {
   "cell_type": "code",
   "execution_count": 16,
   "metadata": {},
   "outputs": [
    {
     "data": {
      "image/png": "[encoded data removed]",
      "text/plain": [
       "<Figure size 720x720 with 2 Axes>"
      ]
     },
     "metadata": {
      "needs_background": "light"
     },
     "output_type": "display_data"
    }
   ],
   "source": [
    "fig, ax = plt.subplots(2,1, figsize = (10,10))\n",
    "\n",
    "ax[0].plot(hist1['epoch'], hist1['mae'], label = 'Train Error', color = 'g')\n",
    "ax[0].plot(hist1['epoch'], hist1['val_mae'], label = 'Val Error', color = 'r')\n",
    "ax[0].set_xlabel('EPOCH')\n",
    "ax[0].set_ylabel('Mean Absolute Error')\n",
    "ax[0].legend()\n",
    "ax[0].grid()\n",
    "\n",
    "ax[1].plot(hist1['epoch'], hist1['mse'], label = 'Train Error', color = 'purple')\n",
    "ax[1].plot(hist1['epoch'], hist1['val_mse'], label = 'Val Error', color = 'y')\n",
    "ax[1].set_xlabel('EPOCH')\n",
    "ax[1].set_ylabel('Mean Squared Error')\n",
    "ax[1].legend()\n",
    "ax[1].grid()"
   ]
  },
  {
   "cell_type": "code",
   "execution_count": 17,
   "metadata": {},
   "outputs": [
    {
     "name": "stdout",
     "output_type": "stream",
     "text": [
      "WARNING:tensorflow:Falling back from v2 loop because of error: Failed to find data adapter that can handle input: <class 'pandas.core.frame.DataFrame'>, <class 'NoneType'>\n",
      "45/45 - 0s - loss: 0.0666 - mae: 0.1220 - mse: 0.0346\n",
      "Testing set Mean Abs Error:  0.12 \n"
     ]
    }
   ],
   "source": [
    "loss, mae, mse= model.evaluate(norm_test, test_labels, verbose=2)\n",
    "\n",
    "print(\"Testing set Mean Abs Error: {:5.2f} \".format(mae))"
   ]
  },
  {
   "cell_type": "code",
   "execution_count": 18,
   "metadata": {},
   "outputs": [
    {
     "name": "stdout",
     "output_type": "stream",
     "text": [
      "WARNING:tensorflow:Falling back from v2 loop because of error: Failed to find data adapter that can handle input: <class 'pandas.core.frame.DataFrame'>, <class 'NoneType'>\n"
     ]
    }
   ],
   "source": [
    "test_predictions = model.predict(norm_test)\n",
    "\n",
    "#sns.regplot(test_labels, test_predictions)\n",
    "\n",
    "compare = pd.DataFrame(test_labels)"
   ]
  },
  {
   "cell_type": "code",
   "execution_count": 19,
   "metadata": {},
   "outputs": [],
   "source": [
    "compare['Predict'] = np.round(test_predictions,0)"
   ]
  },
  {
   "cell_type": "code",
   "execution_count": 20,
   "metadata": {},
   "outputs": [
    {
     "data": {
      "text/plain": [
       "(45, 3)"
      ]
     },
     "execution_count": 20,
     "metadata": {},
     "output_type": "execute_result"
    }
   ],
   "source": [
    "compare['label'] = compare['Predict']\n",
    "\n",
    "compare['label'] = compare['label'].replace(1.0, 'iris-setosa')\n",
    "compare['label'] = compare['label'].replace(2.0, 'iris-versicolor')\n",
    "compare['label'] = compare['label'].replace(3.0, 'iris-virginica')\n",
    "\n",
    "compare.shape\n",
    "\n"
   ]
  },
  {
   "cell_type": "code",
   "execution_count": 26,
   "metadata": {},
   "outputs": [
    {
     "data": {
      "image/png": "[encoded data removed]",
      "text/plain": [
       "<Figure size 720x360 with 1 Axes>"
      ]
     },
     "metadata": {
      "needs_background": "light"
     },
     "output_type": "display_data"
    }
   ],
   "source": [
    "fig = plt.figure(figsize = (10,5))\n",
    "plt.plot(np.arange(0,45,1), compare['Predict'], label = \"Predict\", color = 'purple')\n",
    "plt.plot(np.arange(0,45,1), compare['species'],label = \"Actual\", color = 'red')\n",
    "plt.xlabel('Index')\n",
    "plt.ylabel('Actual and Predicted Species')\n",
    "plt.legend()\n",
    "plt.grid()\n"
   ]
  },
  {
   "cell_type": "markdown",
   "metadata": {},
   "source": [
    "## 1 = Iris-Setosa\n",
    "## 2 = Iris-Versicolor\n",
    "## 3 = Iris-Virginica"
   ]
  },
  {
   "cell_type": "code",
   "execution_count": 25,
   "metadata": {},
   "outputs": [
    {
     "data": {
      "image/png": "[encoded data removed]",
      "text/plain": [
       "<Figure size 720x360 with 1 Axes>"
      ]
     },
     "metadata": {
      "needs_background": "light"
     },
     "output_type": "display_data"
    }
   ],
   "source": [
    "fig = plt.figure(figsize = (10,5))\n",
    "irisS = compare[compare['species'] == 1]\n",
    "irisVers = compare[compare['species'] == 2]\n",
    "irisVirg = compare[compare['species'] == 3]\n",
    "\n",
    "sns.stripplot(compare['label'], irisS['Predict'], size = 7 )\n",
    "sns.stripplot(compare['label'], irisVers['Predict'], color = 'r', size =9 )\n",
    "sns.stripplot(compare['label'], irisVirg['Predict'], color = 'g', size = 7)\n",
    "plt.xlabel('Species')\n",
    "plt.ylabel('Species Prediction')\n",
    "plt.grid()\n"
   ]
  },
  {
   "cell_type": "markdown",
   "metadata": {},
   "source": [
    "## 1 = Iris-Setosa\n",
    "## 2 = Iris-Versicolor\n",
    "## 3 = Iris-Virginica"
   ]
  },
  {
   "cell_type": "code",
   "execution_count": null,
   "metadata": {},
   "outputs": [],
   "source": []
  },
  {
   "cell_type": "code",
   "execution_count": null,
   "metadata": {},
   "outputs": [],
   "source": []
  },
  {
   "cell_type": "code",
   "execution_count": null,
   "metadata": {},
   "outputs": [],
   "source": []
  }
 ],
 "metadata": {
  "kernelspec": {
   "display_name": "Python 3",
   "language": "python",
   "name": "python3"
  },
  "language_info": {
   "codemirror_mode": {
    "name": "ipython",
    "version": 3
   },
   "file_extension": ".py",
   "mimetype": "text/x-python",
   "name": "python",
   "nbconvert_exporter": "python",
   "pygments_lexer": "ipython3",
   "version": "3.7.0"
  }
 },
 "nbformat": 4,
 "nbformat_minor": 2
}
